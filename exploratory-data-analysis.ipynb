{
 "cells": [
  {
   "cell_type": "markdown",
   "metadata": {},
   "source": [
    "# Exploratory Data Analysis (EDA)"
   ]
  },
  {
   "cell_type": "code",
   "execution_count": 86,
   "metadata": {},
   "outputs": [],
   "source": [
    "#Import the Libraries : pandas , numpy, seaborn, matplotlib.pyplot , scipy.stats\n",
    "import pandas as pd\n",
    "import numpy as np\n",
    "import seaborn as sns\n",
    "import matplotlib.pyplot as plt\n",
    "%matplotlib inline\n",
    "import scipy.stats as st\n",
    "\n",
    "\n",
    "# Import warnings library and set it to ignore[so as to ignore warnings]\n",
    "import warnings\n",
    "warnings.filterwarnings('ignore')\n",
    "#Display all the columns of the Dataframe\n",
    "pd.pandas.set_option('display.max_columns',None)\n",
    "#Display all Numbers of float datatype as numbers with 2 decimal places \n",
    "pd.options.display.float_format = \"{:.2f}\".format\n",
    "\n",
    "#from SciKit Learn import Models and metrics\n",
    "from sklearn.model_selection import train_test_split\n",
    "from sklearn.linear_model import LinearRegression\n",
    "from sklearn import ensemble\n",
    "from sklearn.tree import DecisionTreeRegressor\n",
    "from sklearn.ensemble import RandomForestRegressor\n",
    "from sklearn.ensemble import RandomForestClassifier\n",
    "from sklearn.metrics import explained_variance_score\n"
   ]
  },
  {
   "cell_type": "code",
   "execution_count": 87,
   "metadata": {},
   "outputs": [],
   "source": [
    "df = pd.read_csv('data.csv')"
   ]
  },
  {
   "cell_type": "code",
   "execution_count": 88,
   "metadata": {},
   "outputs": [
    {
     "data": {
      "text/html": [
       "<div>\n",
       "<style scoped>\n",
       "    .dataframe tbody tr th:only-of-type {\n",
       "        vertical-align: middle;\n",
       "    }\n",
       "\n",
       "    .dataframe tbody tr th {\n",
       "        vertical-align: top;\n",
       "    }\n",
       "\n",
       "    .dataframe thead th {\n",
       "        text-align: right;\n",
       "    }\n",
       "</style>\n",
       "<table border=\"1\" class=\"dataframe\">\n",
       "  <thead>\n",
       "    <tr style=\"text-align: right;\">\n",
       "      <th></th>\n",
       "      <th>id</th>\n",
       "      <th>date</th>\n",
       "      <th>price</th>\n",
       "      <th>bedrooms</th>\n",
       "      <th>bathrooms</th>\n",
       "      <th>floors</th>\n",
       "      <th>waterfront</th>\n",
       "      <th>view</th>\n",
       "      <th>condition</th>\n",
       "      <th>review_score</th>\n",
       "      <th>basement_size</th>\n",
       "      <th>built</th>\n",
       "      <th>renovation</th>\n",
       "      <th>zipcode</th>\n",
       "      <th>latitude</th>\n",
       "      <th>longitude</th>\n",
       "      <th>living_room_size</th>\n",
       "      <th>lot_size</th>\n",
       "    </tr>\n",
       "  </thead>\n",
       "  <tbody>\n",
       "    <tr>\n",
       "      <th>0</th>\n",
       "      <td>7787980.00</td>\n",
       "      <td>13 October 2014</td>\n",
       "      <td>221900.00</td>\n",
       "      <td>3.00</td>\n",
       "      <td>1.00</td>\n",
       "      <td>1.00</td>\n",
       "      <td>0.00</td>\n",
       "      <td>0.00</td>\n",
       "      <td>fair</td>\n",
       "      <td>10.00</td>\n",
       "      <td>0.00</td>\n",
       "      <td>1955.00</td>\n",
       "      <td>0.00</td>\n",
       "      <td>98178.00</td>\n",
       "      <td>47.51</td>\n",
       "      <td>-122.26</td>\n",
       "      <td>1340.00</td>\n",
       "      <td>5650.00</td>\n",
       "    </tr>\n",
       "    <tr>\n",
       "      <th>1</th>\n",
       "      <td>6774848.00</td>\n",
       "      <td>09 December 2014</td>\n",
       "      <td>538000.00</td>\n",
       "      <td>3.00</td>\n",
       "      <td>2.25</td>\n",
       "      <td>2.00</td>\n",
       "      <td>0.00</td>\n",
       "      <td>0.00</td>\n",
       "      <td>fair</td>\n",
       "      <td>7.00</td>\n",
       "      <td>400.00</td>\n",
       "      <td>1951.00</td>\n",
       "      <td>1991.00</td>\n",
       "      <td>98125.00</td>\n",
       "      <td>47.72</td>\n",
       "      <td>-122.32</td>\n",
       "      <td>1690.00</td>\n",
       "      <td>7639.00</td>\n",
       "    </tr>\n",
       "    <tr>\n",
       "      <th>2</th>\n",
       "      <td>6999329.00</td>\n",
       "      <td>25 February 2015</td>\n",
       "      <td>180000.00</td>\n",
       "      <td>2.00</td>\n",
       "      <td>1.00</td>\n",
       "      <td>1.00</td>\n",
       "      <td>0.00</td>\n",
       "      <td>0.00</td>\n",
       "      <td>fair</td>\n",
       "      <td>8.00</td>\n",
       "      <td>0.00</td>\n",
       "      <td>1933.00</td>\n",
       "      <td>0.00</td>\n",
       "      <td>98028.00</td>\n",
       "      <td>47.74</td>\n",
       "      <td>-122.23</td>\n",
       "      <td>2720.00</td>\n",
       "      <td>8062.00</td>\n",
       "    </tr>\n",
       "    <tr>\n",
       "      <th>3</th>\n",
       "      <td>7773052.00</td>\n",
       "      <td>09 December 2014</td>\n",
       "      <td>604000.00</td>\n",
       "      <td>4.00</td>\n",
       "      <td>3.00</td>\n",
       "      <td>1.00</td>\n",
       "      <td>0.00</td>\n",
       "      <td>0.00</td>\n",
       "      <td>excellent</td>\n",
       "      <td>6.00</td>\n",
       "      <td>910.00</td>\n",
       "      <td>1965.00</td>\n",
       "      <td>0.00</td>\n",
       "      <td>98136.00</td>\n",
       "      <td>47.52</td>\n",
       "      <td>-122.39</td>\n",
       "      <td>1360.00</td>\n",
       "      <td>5000.00</td>\n",
       "    </tr>\n",
       "    <tr>\n",
       "      <th>4</th>\n",
       "      <td>7760818.00</td>\n",
       "      <td>18 February 2015</td>\n",
       "      <td>510000.00</td>\n",
       "      <td>3.00</td>\n",
       "      <td>2.00</td>\n",
       "      <td>1.00</td>\n",
       "      <td>0.00</td>\n",
       "      <td>0.00</td>\n",
       "      <td>fair</td>\n",
       "      <td>6.00</td>\n",
       "      <td>0.00</td>\n",
       "      <td>1987.00</td>\n",
       "      <td>0.00</td>\n",
       "      <td>98074.00</td>\n",
       "      <td>47.62</td>\n",
       "      <td>-122.05</td>\n",
       "      <td>1800.00</td>\n",
       "      <td>7503.00</td>\n",
       "    </tr>\n",
       "    <tr>\n",
       "      <th>5</th>\n",
       "      <td>7659918.00</td>\n",
       "      <td>12 May 2014</td>\n",
       "      <td>1225000.00</td>\n",
       "      <td>4.00</td>\n",
       "      <td>4.50</td>\n",
       "      <td>1.00</td>\n",
       "      <td>0.00</td>\n",
       "      <td>0.00</td>\n",
       "      <td>fair</td>\n",
       "      <td>8.00</td>\n",
       "      <td>1530.00</td>\n",
       "      <td>2001.00</td>\n",
       "      <td>0.00</td>\n",
       "      <td>98053.00</td>\n",
       "      <td>47.66</td>\n",
       "      <td>-122.00</td>\n",
       "      <td>4760.00</td>\n",
       "      <td>101930.00</td>\n",
       "    </tr>\n",
       "    <tr>\n",
       "      <th>6</th>\n",
       "      <td>8057033.00</td>\n",
       "      <td>27 June 2014</td>\n",
       "      <td>257500.00</td>\n",
       "      <td>3.00</td>\n",
       "      <td>2.25</td>\n",
       "      <td>2.00</td>\n",
       "      <td>0.00</td>\n",
       "      <td>0.00</td>\n",
       "      <td>FAIR</td>\n",
       "      <td>7.00</td>\n",
       "      <td>0.00</td>\n",
       "      <td>1995.00</td>\n",
       "      <td>0.00</td>\n",
       "      <td>98003.00</td>\n",
       "      <td>47.31</td>\n",
       "      <td>-122.33</td>\n",
       "      <td>2238.00</td>\n",
       "      <td>6819.00</td>\n",
       "    </tr>\n",
       "    <tr>\n",
       "      <th>7</th>\n",
       "      <td>7249853.00</td>\n",
       "      <td>15 January 2015</td>\n",
       "      <td>291850.00</td>\n",
       "      <td>3.00</td>\n",
       "      <td>1.50</td>\n",
       "      <td>1.00</td>\n",
       "      <td>0.00</td>\n",
       "      <td>0.00</td>\n",
       "      <td>fair</td>\n",
       "      <td>7.00</td>\n",
       "      <td>0.00</td>\n",
       "      <td>1963.00</td>\n",
       "      <td>0.00</td>\n",
       "      <td>98198.00</td>\n",
       "      <td>47.41</td>\n",
       "      <td>-122.31</td>\n",
       "      <td>1650.00</td>\n",
       "      <td>9711.00</td>\n",
       "    </tr>\n",
       "    <tr>\n",
       "      <th>8</th>\n",
       "      <td>7906980.00</td>\n",
       "      <td>15 April 2015</td>\n",
       "      <td>229500.00</td>\n",
       "      <td>3.00</td>\n",
       "      <td>1.00</td>\n",
       "      <td>1.00</td>\n",
       "      <td>0.00</td>\n",
       "      <td>0.00</td>\n",
       "      <td>FAIR</td>\n",
       "      <td>7.00</td>\n",
       "      <td>730.00</td>\n",
       "      <td>1960.00</td>\n",
       "      <td>0.00</td>\n",
       "      <td>98146.00</td>\n",
       "      <td>47.51</td>\n",
       "      <td>-122.34</td>\n",
       "      <td>1780.00</td>\n",
       "      <td>8113.00</td>\n",
       "    </tr>\n",
       "    <tr>\n",
       "      <th>9</th>\n",
       "      <td>7605289.00</td>\n",
       "      <td>12 March 2015</td>\n",
       "      <td>323000.00</td>\n",
       "      <td>3.00</td>\n",
       "      <td>2.50</td>\n",
       "      <td>2.00</td>\n",
       "      <td>0.00</td>\n",
       "      <td>0.00</td>\n",
       "      <td>fair</td>\n",
       "      <td>7.00</td>\n",
       "      <td>0.00</td>\n",
       "      <td>2003.00</td>\n",
       "      <td>0.00</td>\n",
       "      <td>98038.00</td>\n",
       "      <td>47.37</td>\n",
       "      <td>-122.03</td>\n",
       "      <td>2390.00</td>\n",
       "      <td>7570.00</td>\n",
       "    </tr>\n",
       "    <tr>\n",
       "      <th>10</th>\n",
       "      <td>7934973.00</td>\n",
       "      <td>03 April 2015</td>\n",
       "      <td>662500.00</td>\n",
       "      <td>3.00</td>\n",
       "      <td>2.50</td>\n",
       "      <td>1.00</td>\n",
       "      <td>0.00</td>\n",
       "      <td>0.00</td>\n",
       "      <td>fair</td>\n",
       "      <td>7.00</td>\n",
       "      <td>1700.00</td>\n",
       "      <td>1965.00</td>\n",
       "      <td>0.00</td>\n",
       "      <td>98007.00</td>\n",
       "      <td>47.60</td>\n",
       "      <td>-122.14</td>\n",
       "      <td>2210.00</td>\n",
       "      <td>8925.00</td>\n",
       "    </tr>\n",
       "    <tr>\n",
       "      <th>11</th>\n",
       "      <td>6867014.00</td>\n",
       "      <td>27 May 2014</td>\n",
       "      <td>468000.00</td>\n",
       "      <td>2.00</td>\n",
       "      <td>1.00</td>\n",
       "      <td>1.00</td>\n",
       "      <td>0.00</td>\n",
       "      <td>0.00</td>\n",
       "      <td>good</td>\n",
       "      <td>6.00</td>\n",
       "      <td>300.00</td>\n",
       "      <td>1942.00</td>\n",
       "      <td>0.00</td>\n",
       "      <td>98115.00</td>\n",
       "      <td>47.69</td>\n",
       "      <td>-122.29</td>\n",
       "      <td>1330.00</td>\n",
       "      <td>6000.00</td>\n",
       "    </tr>\n",
       "    <tr>\n",
       "      <th>12</th>\n",
       "      <td>nan</td>\n",
       "      <td>28 May 2014</td>\n",
       "      <td>nan</td>\n",
       "      <td>3.00</td>\n",
       "      <td>nan</td>\n",
       "      <td>1.50</td>\n",
       "      <td>0.00</td>\n",
       "      <td>nan</td>\n",
       "      <td>good</td>\n",
       "      <td>5.00</td>\n",
       "      <td>nan</td>\n",
       "      <td>1927.00</td>\n",
       "      <td>0.00</td>\n",
       "      <td>nan</td>\n",
       "      <td>nan</td>\n",
       "      <td>nan</td>\n",
       "      <td>nan</td>\n",
       "      <td>12697.00</td>\n",
       "    </tr>\n",
       "    <tr>\n",
       "      <th>13</th>\n",
       "      <td>7158525.00</td>\n",
       "      <td>07 October 2014</td>\n",
       "      <td>400000.00</td>\n",
       "      <td>3.00</td>\n",
       "      <td>1.75</td>\n",
       "      <td>1.00</td>\n",
       "      <td>0.00</td>\n",
       "      <td>0.00</td>\n",
       "      <td>good</td>\n",
       "      <td>7.00</td>\n",
       "      <td>0.00</td>\n",
       "      <td>1977.00</td>\n",
       "      <td>0.00</td>\n",
       "      <td>98074.00</td>\n",
       "      <td>47.61</td>\n",
       "      <td>-122.05</td>\n",
       "      <td>1370.00</td>\n",
       "      <td>10208.00</td>\n",
       "    </tr>\n",
       "    <tr>\n",
       "      <th>14</th>\n",
       "      <td>7728368.00</td>\n",
       "      <td>12 March 2015</td>\n",
       "      <td>530000.00</td>\n",
       "      <td>5.00</td>\n",
       "      <td>2.00</td>\n",
       "      <td>1.50</td>\n",
       "      <td>0.00</td>\n",
       "      <td>0.00</td>\n",
       "      <td>fair</td>\n",
       "      <td>9.00</td>\n",
       "      <td>0.00</td>\n",
       "      <td>1900.00</td>\n",
       "      <td>0.00</td>\n",
       "      <td>98107.00</td>\n",
       "      <td>47.67</td>\n",
       "      <td>-122.39</td>\n",
       "      <td>1360.00</td>\n",
       "      <td>4850.00</td>\n",
       "    </tr>\n",
       "    <tr>\n",
       "      <th>15</th>\n",
       "      <td>6927268.00</td>\n",
       "      <td>24 January 2015</td>\n",
       "      <td>650000.00</td>\n",
       "      <td>4.00</td>\n",
       "      <td>3.00</td>\n",
       "      <td>2.00</td>\n",
       "      <td>0.00</td>\n",
       "      <td>3.00</td>\n",
       "      <td>fair</td>\n",
       "      <td>7.00</td>\n",
       "      <td>970.00</td>\n",
       "      <td>1979.00</td>\n",
       "      <td>0.00</td>\n",
       "      <td>98126.00</td>\n",
       "      <td>47.57</td>\n",
       "      <td>-122.38</td>\n",
       "      <td>2140.00</td>\n",
       "      <td>4000.00</td>\n",
       "    </tr>\n",
       "    <tr>\n",
       "      <th>16</th>\n",
       "      <td>6828369.00</td>\n",
       "      <td>31 July 2014</td>\n",
       "      <td>395000.00</td>\n",
       "      <td>3.00</td>\n",
       "      <td>2.00</td>\n",
       "      <td>2.00</td>\n",
       "      <td>0.00</td>\n",
       "      <td>0.00</td>\n",
       "      <td>fair</td>\n",
       "      <td>7.00</td>\n",
       "      <td>0.00</td>\n",
       "      <td>1994.00</td>\n",
       "      <td>0.00</td>\n",
       "      <td>98019.00</td>\n",
       "      <td>47.73</td>\n",
       "      <td>-121.96</td>\n",
       "      <td>1890.00</td>\n",
       "      <td>14018.00</td>\n",
       "    </tr>\n",
       "    <tr>\n",
       "      <th>17</th>\n",
       "      <td>7148719.00</td>\n",
       "      <td>29 May 2014</td>\n",
       "      <td>485000.00</td>\n",
       "      <td>4.00</td>\n",
       "      <td>1.00</td>\n",
       "      <td>1.50</td>\n",
       "      <td>0.00</td>\n",
       "      <td>0.00</td>\n",
       "      <td>good</td>\n",
       "      <td>9.00</td>\n",
       "      <td>0.00</td>\n",
       "      <td>1916.00</td>\n",
       "      <td>0.00</td>\n",
       "      <td>98103.00</td>\n",
       "      <td>47.66</td>\n",
       "      <td>-122.34</td>\n",
       "      <td>1610.00</td>\n",
       "      <td>4300.00</td>\n",
       "    </tr>\n",
       "    <tr>\n",
       "      <th>18</th>\n",
       "      <td>7651336.00</td>\n",
       "      <td>05 December 2014</td>\n",
       "      <td>189000.00</td>\n",
       "      <td>2.00</td>\n",
       "      <td>1.00</td>\n",
       "      <td>1.00</td>\n",
       "      <td>0.00</td>\n",
       "      <td>0.00</td>\n",
       "      <td>good</td>\n",
       "      <td>8.00</td>\n",
       "      <td>0.00</td>\n",
       "      <td>1921.00</td>\n",
       "      <td>0.00</td>\n",
       "      <td>98002.00</td>\n",
       "      <td>47.31</td>\n",
       "      <td>-122.21</td>\n",
       "      <td>1060.00</td>\n",
       "      <td>5095.00</td>\n",
       "    </tr>\n",
       "    <tr>\n",
       "      <th>19</th>\n",
       "      <td>7681773.00</td>\n",
       "      <td>24 April 2015</td>\n",
       "      <td>230000.00</td>\n",
       "      <td>3.00</td>\n",
       "      <td>1.00</td>\n",
       "      <td>1.00</td>\n",
       "      <td>0.00</td>\n",
       "      <td>0.00</td>\n",
       "      <td>good</td>\n",
       "      <td>8.00</td>\n",
       "      <td>0.00</td>\n",
       "      <td>1969.00</td>\n",
       "      <td>0.00</td>\n",
       "      <td>98003.00</td>\n",
       "      <td>47.33</td>\n",
       "      <td>-122.31</td>\n",
       "      <td>1280.00</td>\n",
       "      <td>8850.00</td>\n",
       "    </tr>\n",
       "  </tbody>\n",
       "</table>\n",
       "</div>"
      ],
      "text/plain": [
       "           id              date      price  bedrooms  bathrooms  floors  \\\n",
       "0  7787980.00   13 October 2014  221900.00      3.00       1.00    1.00   \n",
       "1  6774848.00  09 December 2014  538000.00      3.00       2.25    2.00   \n",
       "2  6999329.00  25 February 2015  180000.00      2.00       1.00    1.00   \n",
       "3  7773052.00  09 December 2014  604000.00      4.00       3.00    1.00   \n",
       "4  7760818.00  18 February 2015  510000.00      3.00       2.00    1.00   \n",
       "5  7659918.00       12 May 2014 1225000.00      4.00       4.50    1.00   \n",
       "6  8057033.00      27 June 2014  257500.00      3.00       2.25    2.00   \n",
       "7  7249853.00   15 January 2015  291850.00      3.00       1.50    1.00   \n",
       "8  7906980.00     15 April 2015  229500.00      3.00       1.00    1.00   \n",
       "9  7605289.00     12 March 2015  323000.00      3.00       2.50    2.00   \n",
       "10 7934973.00     03 April 2015  662500.00      3.00       2.50    1.00   \n",
       "11 6867014.00       27 May 2014  468000.00      2.00       1.00    1.00   \n",
       "12        nan       28 May 2014        nan      3.00        nan    1.50   \n",
       "13 7158525.00   07 October 2014  400000.00      3.00       1.75    1.00   \n",
       "14 7728368.00     12 March 2015  530000.00      5.00       2.00    1.50   \n",
       "15 6927268.00   24 January 2015  650000.00      4.00       3.00    2.00   \n",
       "16 6828369.00      31 July 2014  395000.00      3.00       2.00    2.00   \n",
       "17 7148719.00       29 May 2014  485000.00      4.00       1.00    1.50   \n",
       "18 7651336.00  05 December 2014  189000.00      2.00       1.00    1.00   \n",
       "19 7681773.00     24 April 2015  230000.00      3.00       1.00    1.00   \n",
       "\n",
       "    waterfront  view  condition  review_score  basement_size   built  \\\n",
       "0         0.00  0.00       fair         10.00           0.00 1955.00   \n",
       "1         0.00  0.00       fair          7.00         400.00 1951.00   \n",
       "2         0.00  0.00       fair          8.00           0.00 1933.00   \n",
       "3         0.00  0.00  excellent          6.00         910.00 1965.00   \n",
       "4         0.00  0.00       fair          6.00           0.00 1987.00   \n",
       "5         0.00  0.00       fair          8.00        1530.00 2001.00   \n",
       "6         0.00  0.00       FAIR          7.00           0.00 1995.00   \n",
       "7         0.00  0.00       fair          7.00           0.00 1963.00   \n",
       "8         0.00  0.00       FAIR          7.00         730.00 1960.00   \n",
       "9         0.00  0.00       fair          7.00           0.00 2003.00   \n",
       "10        0.00  0.00       fair          7.00        1700.00 1965.00   \n",
       "11        0.00  0.00       good          6.00         300.00 1942.00   \n",
       "12        0.00   nan       good          5.00            nan 1927.00   \n",
       "13        0.00  0.00       good          7.00           0.00 1977.00   \n",
       "14        0.00  0.00       fair          9.00           0.00 1900.00   \n",
       "15        0.00  3.00       fair          7.00         970.00 1979.00   \n",
       "16        0.00  0.00       fair          7.00           0.00 1994.00   \n",
       "17        0.00  0.00       good          9.00           0.00 1916.00   \n",
       "18        0.00  0.00       good          8.00           0.00 1921.00   \n",
       "19        0.00  0.00       good          8.00           0.00 1969.00   \n",
       "\n",
       "    renovation  zipcode  latitude  longitude  living_room_size  lot_size  \n",
       "0         0.00 98178.00     47.51    -122.26           1340.00   5650.00  \n",
       "1      1991.00 98125.00     47.72    -122.32           1690.00   7639.00  \n",
       "2         0.00 98028.00     47.74    -122.23           2720.00   8062.00  \n",
       "3         0.00 98136.00     47.52    -122.39           1360.00   5000.00  \n",
       "4         0.00 98074.00     47.62    -122.05           1800.00   7503.00  \n",
       "5         0.00 98053.00     47.66    -122.00           4760.00 101930.00  \n",
       "6         0.00 98003.00     47.31    -122.33           2238.00   6819.00  \n",
       "7         0.00 98198.00     47.41    -122.31           1650.00   9711.00  \n",
       "8         0.00 98146.00     47.51    -122.34           1780.00   8113.00  \n",
       "9         0.00 98038.00     47.37    -122.03           2390.00   7570.00  \n",
       "10        0.00 98007.00     47.60    -122.14           2210.00   8925.00  \n",
       "11        0.00 98115.00     47.69    -122.29           1330.00   6000.00  \n",
       "12        0.00      nan       nan        nan               nan  12697.00  \n",
       "13        0.00 98074.00     47.61    -122.05           1370.00  10208.00  \n",
       "14        0.00 98107.00     47.67    -122.39           1360.00   4850.00  \n",
       "15        0.00 98126.00     47.57    -122.38           2140.00   4000.00  \n",
       "16        0.00 98019.00     47.73    -121.96           1890.00  14018.00  \n",
       "17        0.00 98103.00     47.66    -122.34           1610.00   4300.00  \n",
       "18        0.00 98002.00     47.31    -122.21           1060.00   5095.00  \n",
       "19        0.00 98003.00     47.33    -122.31           1280.00   8850.00  "
      ]
     },
     "execution_count": 88,
     "metadata": {},
     "output_type": "execute_result"
    }
   ],
   "source": [
    "# Verify that result of SQL query is stored in the DataFrame and Print the top 20 records\n",
    "df.head(20)"
   ]
  },
  {
   "cell_type": "code",
   "execution_count": 89,
   "metadata": {},
   "outputs": [
    {
     "name": "stdout",
     "output_type": "stream",
     "text": [
      "<class 'pandas.core.frame.DataFrame'>\n",
      "RangeIndex: 23154 entries, 0 to 23153\n",
      "Data columns (total 18 columns):\n",
      " #   Column            Non-Null Count  Dtype  \n",
      "---  ------            --------------  -----  \n",
      " 0   id                21871 non-null  float64\n",
      " 1   date              21925 non-null  object \n",
      " 2   price             21896 non-null  float64\n",
      " 3   bedrooms          21905 non-null  float64\n",
      " 4   bathrooms         21938 non-null  float64\n",
      " 5   floors            21862 non-null  float64\n",
      " 6   waterfront        21871 non-null  float64\n",
      " 7   view              21908 non-null  float64\n",
      " 8   condition         21890 non-null  object \n",
      " 9   review_score      21851 non-null  float64\n",
      " 10  basement_size     21929 non-null  float64\n",
      " 11  built             21853 non-null  float64\n",
      " 12  renovation        21897 non-null  float64\n",
      " 13  zipcode           21884 non-null  float64\n",
      " 14  latitude          21903 non-null  float64\n",
      " 15  longitude         21883 non-null  float64\n",
      " 16  living_room_size  21912 non-null  float64\n",
      " 17  lot_size          21932 non-null  float64\n",
      "dtypes: float64(16), object(2)\n",
      "memory usage: 3.2+ MB\n"
     ]
    }
   ],
   "source": [
    "#display information : number of rows and columns, Column or  Feature name \n",
    "#the total memory usage, the data type of each column, and the number of non-Null elements.\n",
    "df.info()"
   ]
  },
  {
   "cell_type": "markdown",
   "metadata": {},
   "source": [
    "## Observation (from above two Displayed Tables ) that there are :\n",
    "## a) 2 Object DataTypes ('condition' Column is Categorical and \"date\" is a Date-Time Variable but an    Object or String datatype and the last four digit is Year in YYYY format).We will convert that into int and then to float datatype \n",
    "## b) 16 Numerical DataTypes ( of which \"id\"'s value does not matter and 'built' and 'renovation' and actually Year which is a Time or Temporal Variable)\n",
    "## c)Home Price or 'price' which is the Target Variable for prediction later , has only 21871 non-null values , hence we can safely drop all other values or null values from all rows from all features or variables."
   ]
  },
  {
   "cell_type": "markdown",
   "metadata": {},
   "source": [
    "# 1. Data Cleaning and Preparation"
   ]
  },
  {
   "cell_type": "code",
   "execution_count": 90,
   "metadata": {},
   "outputs": [
    {
     "data": {
      "text/plain": [
       "array(['fair', 'excellent', 'FAIR', 'good', 'TERRIBLE', 'poor', nan,\n",
       "       'GOOD', 'EXCELLENT', 'terrible', 'POOR'], dtype=object)"
      ]
     },
     "execution_count": 90,
     "metadata": {},
     "output_type": "execute_result"
    }
   ],
   "source": [
    "#We drop 'id' as it will not be used in the Analysis\n",
    "df = df.drop('id',axis=1)\n",
    "\n",
    "#we put in the df DataFrame only those values for all columns , for which 'price' Column has non-null or non-na values\n",
    "#i.e. we execute on observation c) above\n",
    "df = df[df['price'].notna()]\n",
    "\n",
    "#get the unique vales of Column 'condition'\n",
    "df['condition'].unique()"
   ]
  },
  {
   "cell_type": "code",
   "execution_count": 91,
   "metadata": {},
   "outputs": [
    {
     "data": {
      "text/plain": [
       "array(['fair', 'excellent', 'good', 'terrible', 'poor', 'nan'],\n",
       "      dtype=object)"
      ]
     },
     "execution_count": 91,
     "metadata": {},
     "output_type": "execute_result"
    }
   ],
   "source": [
    "#convert all lower case in 'condition' column as fair = FAIR , same is true for others , except none , which we will \n",
    "#handle in the Data Prep stage\n",
    "df['condition'] = [str(i).lower() for i in df['condition']]\n",
    "# check the unique values \n",
    "df['condition'].unique()"
   ]
  },
  {
   "cell_type": "code",
   "execution_count": 92,
   "metadata": {},
   "outputs": [],
   "source": [
    "#we replace the 'condition' of the house with numerical rating ['excellent', 'good','fair','poor','terrible','none'] \n",
    "#with [5,4,3,2,1,0]\n",
    "df['condition'] = df['condition'].replace(to_replace =['excellent', 'good','fair','poor','terrible','none'],  \n",
    "                            value =[5.0,4.0,3.0,2.0,1.0,0.0]) "
   ]
  },
  {
   "cell_type": "code",
   "execution_count": 93,
   "metadata": {},
   "outputs": [
    {
     "data": {
      "text/plain": [
       "array([3., 5., 4., 1., 2., 0.])"
      ]
     },
     "execution_count": 93,
     "metadata": {},
     "output_type": "execute_result"
    }
   ],
   "source": [
    "#convert string or object number to numerical or int datatype\n",
    "df['condition']=pd.to_numeric(df['condition'], errors='coerce').fillna(0, downcast='infer')\n",
    "\n",
    "#convert to float datatype\n",
    "df['condition']=df['condition'].astype(float)\n",
    "# check the unique values in the DataFrame Column 'condition'\n",
    "df['condition'].unique()"
   ]
  },
  {
   "cell_type": "code",
   "execution_count": 94,
   "metadata": {},
   "outputs": [
    {
     "data": {
      "text/plain": [
       "array(['2014', '2015', nan], dtype=object)"
      ]
     },
     "execution_count": 94,
     "metadata": {},
     "output_type": "execute_result"
    }
   ],
   "source": [
    "#get the last 4 characters ie Year (YYYY) of the 'date' Column \n",
    "df['date']=df['date'].str[-4:]\n",
    "\n",
    "#get the unique values of date column\n",
    "df['date'].unique()"
   ]
  },
  {
   "cell_type": "code",
   "execution_count": 95,
   "metadata": {},
   "outputs": [
    {
     "data": {
      "text/plain": [
       "array([2014., 2015.,    0.])"
      ]
     },
     "execution_count": 95,
     "metadata": {},
     "output_type": "execute_result"
    }
   ],
   "source": [
    "#convert string or object number to numerical or int datatype\n",
    "df['date']=pd.to_numeric(df['date'], errors='coerce').fillna(0, downcast='infer')\n",
    "\n",
    "#convert to float datatype\n",
    "df['date']=df['date'].astype(float)\n",
    "\n",
    "#get the unique values of date column\n",
    "df['date'].unique()"
   ]
  },
  {
   "cell_type": "code",
   "execution_count": 96,
   "metadata": {},
   "outputs": [
    {
     "data": {
      "text/plain": [
       "array([1955., 1951., 1933., 1965., 1987., 2001., 1995., 1963., 1960.,\n",
       "       2003., 1942., 1977., 1900., 1979., 1994., 1916., 1921., 1969.,\n",
       "       1947., 1968., 1985., 1941., 1915., 1909., 1948., 2005., 1929.,\n",
       "       1981., 1930., 1904., 1996., 2000., 1984., 2014., 1922., 1959.,\n",
       "       1966.,   nan, 1953., 1950., 1927., 2008., 1991., 1954., 1925.,\n",
       "       1989., 1973., 1972., 1986., 1956., 2002., 1992., 1964., 1952.,\n",
       "       1961., 2006., 1988., 1939., 1946., 1967., 1975., 1910., 1983.,\n",
       "       1978., 1905., 1971., 2010., 1924., 1990., 1914., 1926., 2004.,\n",
       "       1962., 1923., 2007., 1976., 1949., 1999., 1980., 1901., 1993.,\n",
       "       1920., 1997., 1943., 1957., 1940., 1918., 1928., 1974., 1911.,\n",
       "       1936., 1937., 1982., 1908., 1931., 1998., 2013., 1907., 1958.,\n",
       "       2012., 1912., 2011., 1917., 1932., 1944., 1902., 2009., 1903.,\n",
       "       1970., 2015., 1934., 1938., 1913., 1919., 1906., 1945., 1935.])"
      ]
     },
     "execution_count": 96,
     "metadata": {},
     "output_type": "execute_result"
    }
   ],
   "source": [
    "#get the unique values of 'built' or Year Built column\n",
    "df['built'].unique()\n"
   ]
  },
  {
   "cell_type": "code",
   "execution_count": 97,
   "metadata": {},
   "outputs": [
    {
     "data": {
      "text/plain": [
       "117"
      ]
     },
     "execution_count": 97,
     "metadata": {},
     "output_type": "execute_result"
    }
   ],
   "source": [
    "# Number of unique 'built' values\n",
    "len(df['built'].unique())"
   ]
  },
  {
   "cell_type": "code",
   "execution_count": 98,
   "metadata": {},
   "outputs": [
    {
     "data": {
      "text/plain": [
       "array([   0., 1991., 2002.,   nan, 2010., 1999., 1992., 2013., 1994.,\n",
       "       2005., 2008., 2003., 1984., 1954., 2014., 2011., 1974., 1945.,\n",
       "       1990., 1988., 1957., 1977., 1981., 1995., 2000., 1998., 1970.,\n",
       "       1989., 2004., 1986., 2009., 2007., 1987., 1973., 2006., 1985.,\n",
       "       2001., 1980., 1971., 1979., 1997., 1969., 1948., 1983., 2015.,\n",
       "       1978., 1968., 2012., 1963., 1951., 1993., 1962., 1996., 1972.,\n",
       "       1953., 1955., 1950., 1956., 1982., 1940., 1976., 1946., 1975.,\n",
       "       1958., 1964., 1959., 1960., 1967., 1965., 1934., 1944.])"
      ]
     },
     "execution_count": 98,
     "metadata": {},
     "output_type": "execute_result"
    }
   ],
   "source": [
    "#get the unique values of 'renovation' or Renovation Year column\n",
    "df['renovation'].unique()"
   ]
  },
  {
   "cell_type": "code",
   "execution_count": 99,
   "metadata": {},
   "outputs": [
    {
     "data": {
      "text/plain": [
       "71"
      ]
     },
     "execution_count": 99,
     "metadata": {},
     "output_type": "execute_result"
    }
   ],
   "source": [
    "# Number of unique 'renovation' values\n",
    "len(df['renovation'].unique())"
   ]
  },
  {
   "cell_type": "markdown",
   "metadata": {},
   "source": [
    "## Observation 1a)\n",
    "We observe from the Above 3 Temporal Variables : Date or Date of Sale , Year Built and Renovation Year Unique Values that Date has only two years (viz. 2014 and 2015) while Year Built and Renovation Year has a wide range since early 1900s to 2000s ."
   ]
  },
  {
   "cell_type": "code",
   "execution_count": 100,
   "metadata": {},
   "outputs": [
    {
     "name": "stdout",
     "output_type": "stream",
     "text": [
      "<class 'pandas.core.frame.DataFrame'>\n",
      "Int64Index: 21896 entries, 0 to 23153\n",
      "Data columns (total 17 columns):\n",
      " #   Column            Non-Null Count  Dtype  \n",
      "---  ------            --------------  -----  \n",
      " 0   date              21896 non-null  float64\n",
      " 1   price             21896 non-null  float64\n",
      " 2   bedrooms          21308 non-null  float64\n",
      " 3   bathrooms         21326 non-null  float64\n",
      " 4   floors            21279 non-null  float64\n",
      " 5   waterfront        21274 non-null  float64\n",
      " 6   view              21313 non-null  float64\n",
      " 7   condition         21896 non-null  float64\n",
      " 8   review_score      20669 non-null  float64\n",
      " 9   basement_size     21337 non-null  float64\n",
      " 10  built             21283 non-null  float64\n",
      " 11  renovation        21313 non-null  float64\n",
      " 12  zipcode           21313 non-null  float64\n",
      " 13  latitude          21309 non-null  float64\n",
      " 14  longitude         21321 non-null  float64\n",
      " 15  living_room_size  21294 non-null  float64\n",
      " 16  lot_size          21313 non-null  float64\n",
      "dtypes: float64(17)\n",
      "memory usage: 3.0 MB\n"
     ]
    }
   ],
   "source": [
    "#display information : number of rows and columns, Column or  Feature name \n",
    "#the total memory usage, the data type of each column, and the number of non-Null elements.\n",
    "df.info()"
   ]
  },
  {
   "cell_type": "code",
   "execution_count": 101,
   "metadata": {},
   "outputs": [
    {
     "data": {
      "text/html": [
       "<div>\n",
       "<style scoped>\n",
       "    .dataframe tbody tr th:only-of-type {\n",
       "        vertical-align: middle;\n",
       "    }\n",
       "\n",
       "    .dataframe tbody tr th {\n",
       "        vertical-align: top;\n",
       "    }\n",
       "\n",
       "    .dataframe thead th {\n",
       "        text-align: right;\n",
       "    }\n",
       "</style>\n",
       "<table border=\"1\" class=\"dataframe\">\n",
       "  <thead>\n",
       "    <tr style=\"text-align: right;\">\n",
       "      <th></th>\n",
       "      <th>date</th>\n",
       "      <th>price</th>\n",
       "      <th>bedrooms</th>\n",
       "      <th>bathrooms</th>\n",
       "      <th>floors</th>\n",
       "      <th>waterfront</th>\n",
       "      <th>view</th>\n",
       "      <th>condition</th>\n",
       "      <th>review_score</th>\n",
       "      <th>basement_size</th>\n",
       "      <th>built</th>\n",
       "      <th>renovation</th>\n",
       "      <th>zipcode</th>\n",
       "      <th>latitude</th>\n",
       "      <th>longitude</th>\n",
       "      <th>living_room_size</th>\n",
       "      <th>lot_size</th>\n",
       "    </tr>\n",
       "  </thead>\n",
       "  <tbody>\n",
       "    <tr>\n",
       "      <th>count</th>\n",
       "      <td>21896.00</td>\n",
       "      <td>21896.00</td>\n",
       "      <td>21308.00</td>\n",
       "      <td>21326.00</td>\n",
       "      <td>21279.00</td>\n",
       "      <td>21274.00</td>\n",
       "      <td>21313.00</td>\n",
       "      <td>21896.00</td>\n",
       "      <td>20669.00</td>\n",
       "      <td>21337.00</td>\n",
       "      <td>21283.00</td>\n",
       "      <td>21313.00</td>\n",
       "      <td>21313.00</td>\n",
       "      <td>21309.00</td>\n",
       "      <td>21321.00</td>\n",
       "      <td>21294.00</td>\n",
       "      <td>21313.00</td>\n",
       "    </tr>\n",
       "    <tr>\n",
       "      <th>mean</th>\n",
       "      <td>1961.24</td>\n",
       "      <td>540653.80</td>\n",
       "      <td>3.37</td>\n",
       "      <td>2.11</td>\n",
       "      <td>1.49</td>\n",
       "      <td>0.01</td>\n",
       "      <td>0.23</td>\n",
       "      <td>3.32</td>\n",
       "      <td>7.66</td>\n",
       "      <td>290.97</td>\n",
       "      <td>1971.02</td>\n",
       "      <td>84.93</td>\n",
       "      <td>98077.92</td>\n",
       "      <td>47.56</td>\n",
       "      <td>-122.21</td>\n",
       "      <td>1986.02</td>\n",
       "      <td>12809.11</td>\n",
       "    </tr>\n",
       "    <tr>\n",
       "      <th>std</th>\n",
       "      <td>322.66</td>\n",
       "      <td>369404.74</td>\n",
       "      <td>0.91</td>\n",
       "      <td>0.77</td>\n",
       "      <td>0.54</td>\n",
       "      <td>0.09</td>\n",
       "      <td>0.76</td>\n",
       "      <td>0.85</td>\n",
       "      <td>1.18</td>\n",
       "      <td>441.94</td>\n",
       "      <td>29.35</td>\n",
       "      <td>402.88</td>\n",
       "      <td>53.48</td>\n",
       "      <td>0.14</td>\n",
       "      <td>0.14</td>\n",
       "      <td>685.21</td>\n",
       "      <td>27385.09</td>\n",
       "    </tr>\n",
       "    <tr>\n",
       "      <th>min</th>\n",
       "      <td>0.00</td>\n",
       "      <td>75000.00</td>\n",
       "      <td>0.00</td>\n",
       "      <td>0.00</td>\n",
       "      <td>1.00</td>\n",
       "      <td>0.00</td>\n",
       "      <td>0.00</td>\n",
       "      <td>0.00</td>\n",
       "      <td>1.00</td>\n",
       "      <td>0.00</td>\n",
       "      <td>1900.00</td>\n",
       "      <td>0.00</td>\n",
       "      <td>98001.00</td>\n",
       "      <td>47.16</td>\n",
       "      <td>-122.52</td>\n",
       "      <td>399.00</td>\n",
       "      <td>651.00</td>\n",
       "    </tr>\n",
       "    <tr>\n",
       "      <th>25%</th>\n",
       "      <td>2014.00</td>\n",
       "      <td>321000.00</td>\n",
       "      <td>3.00</td>\n",
       "      <td>1.50</td>\n",
       "      <td>1.00</td>\n",
       "      <td>0.00</td>\n",
       "      <td>0.00</td>\n",
       "      <td>3.00</td>\n",
       "      <td>7.00</td>\n",
       "      <td>0.00</td>\n",
       "      <td>1951.00</td>\n",
       "      <td>0.00</td>\n",
       "      <td>98033.00</td>\n",
       "      <td>47.47</td>\n",
       "      <td>-122.33</td>\n",
       "      <td>1490.00</td>\n",
       "      <td>5100.00</td>\n",
       "    </tr>\n",
       "    <tr>\n",
       "      <th>50%</th>\n",
       "      <td>2014.00</td>\n",
       "      <td>450000.00</td>\n",
       "      <td>3.00</td>\n",
       "      <td>2.25</td>\n",
       "      <td>1.50</td>\n",
       "      <td>0.00</td>\n",
       "      <td>0.00</td>\n",
       "      <td>3.00</td>\n",
       "      <td>7.00</td>\n",
       "      <td>0.00</td>\n",
       "      <td>1975.00</td>\n",
       "      <td>0.00</td>\n",
       "      <td>98065.00</td>\n",
       "      <td>47.57</td>\n",
       "      <td>-122.23</td>\n",
       "      <td>1840.00</td>\n",
       "      <td>7620.00</td>\n",
       "    </tr>\n",
       "    <tr>\n",
       "      <th>75%</th>\n",
       "      <td>2015.00</td>\n",
       "      <td>645000.00</td>\n",
       "      <td>4.00</td>\n",
       "      <td>2.50</td>\n",
       "      <td>2.00</td>\n",
       "      <td>0.00</td>\n",
       "      <td>0.00</td>\n",
       "      <td>4.00</td>\n",
       "      <td>8.00</td>\n",
       "      <td>560.00</td>\n",
       "      <td>1997.00</td>\n",
       "      <td>0.00</td>\n",
       "      <td>98118.00</td>\n",
       "      <td>47.68</td>\n",
       "      <td>-122.12</td>\n",
       "      <td>2360.00</td>\n",
       "      <td>10091.00</td>\n",
       "    </tr>\n",
       "    <tr>\n",
       "      <th>max</th>\n",
       "      <td>2015.00</td>\n",
       "      <td>7700000.00</td>\n",
       "      <td>11.00</td>\n",
       "      <td>8.00</td>\n",
       "      <td>3.50</td>\n",
       "      <td>1.00</td>\n",
       "      <td>4.00</td>\n",
       "      <td>5.00</td>\n",
       "      <td>13.00</td>\n",
       "      <td>4820.00</td>\n",
       "      <td>2015.00</td>\n",
       "      <td>2015.00</td>\n",
       "      <td>98199.00</td>\n",
       "      <td>47.78</td>\n",
       "      <td>-121.31</td>\n",
       "      <td>6210.00</td>\n",
       "      <td>871200.00</td>\n",
       "    </tr>\n",
       "  </tbody>\n",
       "</table>\n",
       "</div>"
      ],
      "text/plain": [
       "          date      price  bedrooms  bathrooms   floors  waterfront     view  \\\n",
       "count 21896.00   21896.00  21308.00   21326.00 21279.00    21274.00 21313.00   \n",
       "mean   1961.24  540653.80      3.37       2.11     1.49        0.01     0.23   \n",
       "std     322.66  369404.74      0.91       0.77     0.54        0.09     0.76   \n",
       "min       0.00   75000.00      0.00       0.00     1.00        0.00     0.00   \n",
       "25%    2014.00  321000.00      3.00       1.50     1.00        0.00     0.00   \n",
       "50%    2014.00  450000.00      3.00       2.25     1.50        0.00     0.00   \n",
       "75%    2015.00  645000.00      4.00       2.50     2.00        0.00     0.00   \n",
       "max    2015.00 7700000.00     11.00       8.00     3.50        1.00     4.00   \n",
       "\n",
       "       condition  review_score  basement_size    built  renovation  zipcode  \\\n",
       "count   21896.00      20669.00       21337.00 21283.00    21313.00 21313.00   \n",
       "mean        3.32          7.66         290.97  1971.02       84.93 98077.92   \n",
       "std         0.85          1.18         441.94    29.35      402.88    53.48   \n",
       "min         0.00          1.00           0.00  1900.00        0.00 98001.00   \n",
       "25%         3.00          7.00           0.00  1951.00        0.00 98033.00   \n",
       "50%         3.00          7.00           0.00  1975.00        0.00 98065.00   \n",
       "75%         4.00          8.00         560.00  1997.00        0.00 98118.00   \n",
       "max         5.00         13.00        4820.00  2015.00     2015.00 98199.00   \n",
       "\n",
       "       latitude  longitude  living_room_size  lot_size  \n",
       "count  21309.00   21321.00          21294.00  21313.00  \n",
       "mean      47.56    -122.21           1986.02  12809.11  \n",
       "std        0.14       0.14            685.21  27385.09  \n",
       "min       47.16    -122.52            399.00    651.00  \n",
       "25%       47.47    -122.33           1490.00   5100.00  \n",
       "50%       47.57    -122.23           1840.00   7620.00  \n",
       "75%       47.68    -122.12           2360.00  10091.00  \n",
       "max       47.78    -121.31           6210.00 871200.00  "
      ]
     },
     "execution_count": 101,
     "metadata": {},
     "output_type": "execute_result"
    }
   ],
   "source": [
    "#descriptive statistics summary of all Numerical Features or Variables .\n",
    "df.describe()"
   ]
  },
  {
   "cell_type": "markdown",
   "metadata": {},
   "source": [
    "# Observation 1b)\n",
    "We Observe from the above table in the House Price/\"price\" Column or Variable that the max value is 7.7 million and minimum value is 75k . Let's see if they are Normally Distributed"
   ]
  },
  {
   "cell_type": "code",
   "execution_count": 102,
   "metadata": {},
   "outputs": [
    {
     "data": {
      "text/plain": [
       "<matplotlib.axes._subplots.AxesSubplot at 0x7f9630729f50>"
      ]
     },
     "execution_count": 102,
     "metadata": {},
     "output_type": "execute_result"
    },
    {
     "data": {
      "image/png": "[encoded data removed]",
      "text/plain": [
       "<Figure size 792x792 with 1 Axes>"
      ]
     },
     "metadata": {
      "needs_background": "light"
     },
     "output_type": "display_data"
    }
   ],
   "source": [
    "#Plot normal distribution of House Price \n",
    "y = df['price']\n",
    "plt.figure(figsize=(11,11)); plt.title('Normal')\n",
    "sns.distplot(y, kde=False, fit=st.norm)"
   ]
  },
  {
   "cell_type": "code",
   "execution_count": 103,
   "metadata": {},
   "outputs": [
    {
     "name": "stdout",
     "output_type": "stream",
     "text": [
      "Skewness: 4.102171\n",
      "Kurtosis: 35.801755\n"
     ]
    }
   ],
   "source": [
    "print(\"Skewness: %f\" % df['price'].skew())\n",
    "print(\"Kurtosis: %f\" % df['price'].kurt())"
   ]
  },
  {
   "cell_type": "markdown",
   "metadata": {},
   "source": [
    "# Observation 1c)\n",
    "Skewness is ameasure of Symmetry or lack thereof of the Distribution . We see from the above plot , that \"House Price\" doesn't follow normal distribution and has high skewness, deviates from the normal distribution and shows peakedness or high Kurtosis.So we need to Transform the Data before we run our ML Algorithms on it."
   ]
  },
  {
   "cell_type": "markdown",
   "metadata": {},
   "source": [
    "\n",
    "# 2. Analysis and Ploting of House Price , Other Numerical ,Temporal Variables and Outliers"
   ]
  },
  {
   "cell_type": "code",
   "execution_count": 104,
   "metadata": {},
   "outputs": [
    {
     "data": {
      "image/png": "[encoded data removed]",
      "text/plain": [
       "<Figure size 1152x1152 with 20 Axes>"
      ]
     },
     "metadata": {
      "needs_background": "light"
     },
     "output_type": "display_data"
    }
   ],
   "source": [
    "# We plot the histogram (count=y-axis vs feature x-axis)for all 17 features to understand how they are distributed and\n",
    "# whether they are Continuous or Discrete or Outliers\n",
    "features=df[['date','price', 'bedrooms', 'bathrooms', 'condition', 'floors', 'waterfront', 'view', 'review_score',\n",
    "    'basement_size', 'built', 'renovation', 'zipcode',\n",
    "    'latitude', 'longitude', 'living_room_size', 'lot_size']]\n",
    "\n",
    "h = features.hist(bins=25,figsize=(16,16),xlabelsize='10',ylabelsize='10',xrot=-15)\n",
    "sns.despine(left=True, bottom=True)\n",
    "[x.title.set_size(12) for x in h.ravel()];\n",
    "[x.yaxis.tick_left() for x in h.ravel()];"
   ]
  },
  {
   "cell_type": "markdown",
   "metadata": {},
   "source": [
    "# Observation 2a)\n",
    "We observe from the above Histograms that all the Features are Skewed and not normally distrbuted"
   ]
  },
  {
   "cell_type": "code",
   "execution_count": 105,
   "metadata": {},
   "outputs": [
    {
     "name": "stdout",
     "output_type": "stream",
     "text": [
      "Discrete Variables Count: 6\n",
      "Continuous Variables Count: 8\n"
     ]
    }
   ],
   "source": [
    "# Year or Temporal feature (as per Observation d) above)\n",
    "year_feature = ['date','built','renovation']\n",
    "\n",
    "# Numerical variables are of 2 types : Continous variable and Discrete Variables . We define discrete feature to\n",
    "# have less than 25 unique values , otherwise continuous feature\n",
    "discrete_feature=[f for f in df.columns if len(df[f].unique())<25 and f not in \n",
    "                  year_feature]\n",
    "print(\"Discrete Variables Count: {}\".format(len(discrete_feature)))\n",
    "\n",
    "continuous_feature=[f for f in df.columns if len(df[f].unique())>=25 and f not in \n",
    "                  year_feature]\n",
    "print(\"Continuous Variables Count: {}\".format(len(continuous_feature)))"
   ]
  },
  {
   "cell_type": "code",
   "execution_count": 106,
   "metadata": {},
   "outputs": [
    {
     "data": {
      "text/plain": [
       "['bedrooms', 'floors', 'waterfront', 'view', 'condition', 'review_score']"
      ]
     },
     "execution_count": 106,
     "metadata": {},
     "output_type": "execute_result"
    }
   ],
   "source": [
    "# discrete features\n",
    "discrete_feature"
   ]
  },
  {
   "cell_type": "code",
   "execution_count": 107,
   "metadata": {
    "scrolled": true
   },
   "outputs": [
    {
     "data": {
      "text/plain": [
       "['price',\n",
       " 'bathrooms',\n",
       " 'basement_size',\n",
       " 'zipcode',\n",
       " 'latitude',\n",
       " 'longitude',\n",
       " 'living_room_size',\n",
       " 'lot_size']"
      ]
     },
     "execution_count": 107,
     "metadata": {},
     "output_type": "execute_result"
    }
   ],
   "source": [
    "# continuous features\n",
    "continuous_feature"
   ]
  },
  {
   "cell_type": "code",
   "execution_count": 108,
   "metadata": {},
   "outputs": [
    {
     "data": {
      "text/plain": [
       "Text(0.5, 1.0, 'Median House Price vs Date of Sale')"
      ]
     },
     "execution_count": 108,
     "metadata": {},
     "output_type": "execute_result"
    },
    {
     "data": {
      "image/png": "[encoded data removed]",
      "text/plain": [
       "<Figure size 432x288 with 1 Axes>"
      ]
     },
     "metadata": {
      "needs_background": "light"
     },
     "output_type": "display_data"
    }
   ],
   "source": [
    "## Lets analyze the Temporal Date-time or Year Variables\n",
    "## We will check whether there is a relation between year the house is sold vs House Price\n",
    "\n",
    "df.groupby('date')['price'].median().plot()\n",
    "plt.xlabel('Year Sold')\n",
    "plt.ylabel('Median House Price')\n",
    "plt.title(\"Median House Price vs Date of Sale\")"
   ]
  },
  {
   "cell_type": "code",
   "execution_count": 109,
   "metadata": {},
   "outputs": [
    {
     "data": {
      "image/png": "[encoded data removed]",
      "text/plain": [
       "<Figure size 432x288 with 1 Axes>"
      ]
     },
     "metadata": {
      "needs_background": "light"
     },
     "output_type": "display_data"
    },
    {
     "data": {
      "image/png": "[encoded data removed]",
      "text/plain": [
       "<Figure size 432x288 with 1 Axes>"
      ]
     },
     "metadata": {
      "needs_background": "light"
     },
     "output_type": "display_data"
    },
    {
     "data": {
      "image/png": "[encoded data removed]",
      "text/plain": [
       "<Figure size 432x288 with 1 Axes>"
      ]
     },
     "metadata": {
      "needs_background": "light"
     },
     "output_type": "display_data"
    }
   ],
   "source": [
    "#we plot the Scatter Plot of House Price(price) vs Year or Temporal variable/feature \n",
    "for feature in year_feature:\n",
    "    data=df.copy()\n",
    "    plt.scatter(data[feature],data['price'])\n",
    "    plt.xlabel(feature)\n",
    "    plt.ylabel('price')\n",
    "    plt.show()"
   ]
  },
  {
   "cell_type": "markdown",
   "metadata": {},
   "source": [
    "# Observation 2b)\n",
    "We observe that 'renovation' has a lot of Zeros and Outliers , so for missing values it needs to be populated my median. And to reduce the number features from 3 to 2 we need to do feature engineering in 3. (next section)"
   ]
  },
  {
   "cell_type": "code",
   "execution_count": 110,
   "metadata": {},
   "outputs": [
    {
     "data": {
      "image/png": "[encoded data removed]",
      "text/plain": [
       "<Figure size 432x288 with 1 Axes>"
      ]
     },
     "metadata": {
      "needs_background": "light"
     },
     "output_type": "display_data"
    },
    {
     "data": {
      "image/png": "[encoded data removed]",
      "text/plain": [
       "<Figure size 432x288 with 1 Axes>"
      ]
     },
     "metadata": {
      "needs_background": "light"
     },
     "output_type": "display_data"
    },
    {
     "data": {
      "image/png": "[encoded data removed]",
      "text/plain": [
       "<Figure size 432x288 with 1 Axes>"
      ]
     },
     "metadata": {
      "needs_background": "light"
     },
     "output_type": "display_data"
    },
    {
     "data": {
      "image/png": "[encoded data removed]",
      "text/plain": [
       "<Figure size 432x288 with 1 Axes>"
      ]
     },
     "metadata": {
      "needs_background": "light"
     },
     "output_type": "display_data"
    },
    {
     "data": {
      "image/png": "[encoded data removed]",
      "text/plain": [
       "<Figure size 432x288 with 1 Axes>"
      ]
     },
     "metadata": {
      "needs_background": "light"
     },
     "output_type": "display_data"
    },
    {
     "data": {
      "image/png": "[encoded data removed]",
      "text/plain": [
       "<Figure size 432x288 with 1 Axes>"
      ]
     },
     "metadata": {
      "needs_background": "light"
     },
     "output_type": "display_data"
    }
   ],
   "source": [
    "#we plot the median House Price(price) vs Dicrete features variable \n",
    "for feature in discrete_feature:\n",
    "    data=df.copy()\n",
    "    data.groupby(feature)['price'].median().plot.bar()\n",
    "    plt.xlabel(feature)\n",
    "    plt.ylabel('price')\n",
    "    plt.title(feature)\n",
    "    plt.show()"
   ]
  },
  {
   "cell_type": "markdown",
   "metadata": {},
   "source": [
    "# Observation 2c)\n",
    "We observe from above plots , a Linear Relationship between median price and Discrete Features except waterfront , view, condition  which have a lot of zero outliers"
   ]
  },
  {
   "cell_type": "code",
   "execution_count": 111,
   "metadata": {},
   "outputs": [
    {
     "data": {
      "image/png": "[encoded data removed]",
      "text/plain": [
       "<Figure size 432x288 with 1 Axes>"
      ]
     },
     "metadata": {
      "needs_background": "light"
     },
     "output_type": "display_data"
    },
    {
     "data": {
      "image/png": "[encoded data removed]",
      "text/plain": [
       "<Figure size 432x288 with 1 Axes>"
      ]
     },
     "metadata": {
      "needs_background": "light"
     },
     "output_type": "display_data"
    },
    {
     "data": {
      "image/png": "[encoded data removed]",
      "text/plain": [
       "<Figure size 432x288 with 1 Axes>"
      ]
     },
     "metadata": {
      "needs_background": "light"
     },
     "output_type": "display_data"
    },
    {
     "data": {
      "image/png": "[encoded data removed]",
      "text/plain": [
       "<Figure size 432x288 with 1 Axes>"
      ]
     },
     "metadata": {
      "needs_background": "light"
     },
     "output_type": "display_data"
    },
    {
     "data": {
      "image/png": "[encoded data removed]",
      "text/plain": [
       "<Figure size 432x288 with 1 Axes>"
      ]
     },
     "metadata": {
      "needs_background": "light"
     },
     "output_type": "display_data"
    },
    {
     "data": {
      "image/png": "[encoded data removed]",
      "text/plain": [
       "<Figure size 432x288 with 1 Axes>"
      ]
     },
     "metadata": {
      "needs_background": "light"
     },
     "output_type": "display_data"
    }
   ],
   "source": [
    "#we plot the Scatter Plot of House Price(price) vs Continuous Features (except Longitude)\n",
    "continuous_feature1 = continuous_feature\n",
    "#remove price from continuous feature\n",
    "continuous_feature1.remove('price')\n",
    "#remove longitude from continuous feature as it has negative value and throwing an error\n",
    "continuous_feature1.remove('longitude')\n",
    "\n",
    "for feature in continuous_feature1:\n",
    "    data=df.copy()\n",
    "    data[feature]=np.log(data[feature])\n",
    "    data['price']=np.log(data['price'])\n",
    "    plt.scatter(data[feature],data['price'])\n",
    "    plt.xlabel(feature)\n",
    "    plt.ylabel('price')\n",
    "    plt.title(feature)\n",
    "    plt.show()"
   ]
  },
  {
   "cell_type": "code",
   "execution_count": 112,
   "metadata": {},
   "outputs": [
    {
     "data": {
      "image/png": "[encoded data removed]",
      "text/plain": [
       "<Figure size 432x288 with 1 Axes>"
      ]
     },
     "metadata": {
      "needs_background": "light"
     },
     "output_type": "display_data"
    }
   ],
   "source": [
    "#taking the scatter plot of 'price' vs 'longitude'\n",
    "data=df.copy()\n",
    "data['longitude']=np.log(data[feature].abs())\n",
    "data['price']=np.log(data['price'])\n",
    "plt.scatter(data['longitude'],data['price'])\n",
    "plt.xlabel('longitude')\n",
    "plt.ylabel('price')\n",
    "plt.title('longitude')\n",
    "plt.show()"
   ]
  },
  {
   "cell_type": "code",
   "execution_count": 113,
   "metadata": {},
   "outputs": [
    {
     "data": {
      "image/png": "[encoded data removed]",
      "text/plain": [
       "<Figure size 432x288 with 1 Axes>"
      ]
     },
     "metadata": {
      "needs_background": "light"
     },
     "output_type": "display_data"
    },
    {
     "data": {
      "image/png": "[encoded data removed]",
      "text/plain": [
       "<Figure size 432x288 with 1 Axes>"
      ]
     },
     "metadata": {
      "needs_background": "light"
     },
     "output_type": "display_data"
    },
    {
     "data": {
      "image/png": "[encoded data removed]",
      "text/plain": [
       "<Figure size 432x288 with 1 Axes>"
      ]
     },
     "metadata": {
      "needs_background": "light"
     },
     "output_type": "display_data"
    },
    {
     "data": {
      "image/png": "[encoded data removed]",
      "text/plain": [
       "<Figure size 432x288 with 1 Axes>"
      ]
     },
     "metadata": {
      "needs_background": "light"
     },
     "output_type": "display_data"
    },
    {
     "data": {
      "image/png": "[encoded data removed]",
      "text/plain": [
       "<Figure size 432x288 with 1 Axes>"
      ]
     },
     "metadata": {
      "needs_background": "light"
     },
     "output_type": "display_data"
    },
    {
     "data": {
      "image/png": "[encoded data removed]",
      "text/plain": [
       "<Figure size 432x288 with 1 Axes>"
      ]
     },
     "metadata": {
      "needs_background": "light"
     },
     "output_type": "display_data"
    }
   ],
   "source": [
    "#we plot the Boxplot of all continuous features to  see which features have outliers\n",
    "\n",
    "for feature in continuous_feature1:\n",
    "    data=df.copy()\n",
    "    data[feature]=np.log(data[feature])\n",
    "    data.boxplot(column=feature)\n",
    "    plt.ylabel(feature)\n",
    "    plt.title(feature)\n",
    "    plt.show()"
   ]
  },
  {
   "cell_type": "code",
   "execution_count": 114,
   "metadata": {},
   "outputs": [
    {
     "data": {
      "image/png": "[encoded data removed]",
      "text/plain": [
       "<Figure size 432x288 with 1 Axes>"
      ]
     },
     "metadata": {
      "needs_background": "light"
     },
     "output_type": "display_data"
    }
   ],
   "source": [
    "#taking the box plot of 'longitude'\n",
    "data=df.copy()\n",
    "data['longitude']=np.log(data['longitude'].abs())\n",
    "data.boxplot(column='longitude')\n",
    "plt.ylabel('longitude')\n",
    "plt.title('longitude')\n",
    "plt.show()"
   ]
  },
  {
   "cell_type": "markdown",
   "metadata": {},
   "source": [
    "# Observation 2d)\n",
    "We observe from series of scatterplots,boxplots above and histogram (beginning plot of all variables) of Continuous Features  that there is essentially a Linear Relationship between price and Continuous Features with many outliers"
   ]
  },
  {
   "cell_type": "markdown",
   "metadata": {},
   "source": [
    "# 3. Missing Values and Feature Engineering"
   ]
  },
  {
   "cell_type": "code",
   "execution_count": 115,
   "metadata": {},
   "outputs": [
    {
     "name": "stdout",
     "output_type": "stream",
     "text": [
      "bedrooms 2.69 % missing values\n",
      "bathrooms 2.6 % missing values\n",
      "floors 2.82 % missing values\n",
      "waterfront 2.84 % missing values\n",
      "view 2.66 % missing values\n",
      "review_score 5.6 % missing values\n",
      "basement_size 2.55 % missing values\n",
      "built 2.8 % missing values\n",
      "renovation 2.66 % missing values\n",
      "zipcode 2.66 % missing values\n",
      "latitude 2.68 % missing values\n",
      "longitude 2.63 % missing values\n",
      "living_room_size 2.75 % missing values\n",
      "lot_size 2.66 % missing values\n"
     ]
    }
   ],
   "source": [
    "## In Missing Values we check the percentage of nan values present in each feature (all are numerical features)\n",
    "\n",
    "data=df.copy()\n",
    "## Step 1 make the list of features which has missing values\n",
    "features_with_na=[features for features in df.columns if data[features].isnull().sum()>1]\n",
    "## Step 2 print the feature name and the percentage of missing values\n",
    "for feature in features_with_na:\n",
    "    print(feature, np.round(data[feature].isnull().mean()*100, 2),  '% missing values')"
   ]
  },
  {
   "cell_type": "code",
   "execution_count": 116,
   "metadata": {},
   "outputs": [],
   "source": [
    "# from Observation 2a)-d) we conclude that we will fill all the nan or null values with median\n",
    "df = df.fillna(df.median())"
   ]
  },
  {
   "cell_type": "code",
   "execution_count": 117,
   "metadata": {},
   "outputs": [],
   "source": [
    "## Temporal Variables (Date Time Variables) Feature Engineering as per Observation 2b)\n",
    "for feature in ['built','renovation']:\n",
    "    df[feature]=df['date']-df[feature]"
   ]
  },
  {
   "cell_type": "code",
   "execution_count": 118,
   "metadata": {},
   "outputs": [],
   "source": [
    "#We Drop the date Column as we have already performed Feature Engineering on it \n",
    "df = df.drop('date',axis=1)"
   ]
  },
  {
   "cell_type": "code",
   "execution_count": 119,
   "metadata": {},
   "outputs": [
    {
     "name": "stdout",
     "output_type": "stream",
     "text": [
      "<class 'pandas.core.frame.DataFrame'>\n",
      "Int64Index: 21896 entries, 0 to 23153\n",
      "Data columns (total 16 columns):\n",
      " #   Column            Non-Null Count  Dtype  \n",
      "---  ------            --------------  -----  \n",
      " 0   price             21896 non-null  float64\n",
      " 1   bedrooms          21896 non-null  float64\n",
      " 2   bathrooms         21896 non-null  float64\n",
      " 3   floors            21896 non-null  float64\n",
      " 4   waterfront        21896 non-null  float64\n",
      " 5   view              21896 non-null  float64\n",
      " 6   condition         21896 non-null  float64\n",
      " 7   review_score      21896 non-null  float64\n",
      " 8   basement_size     21896 non-null  float64\n",
      " 9   built             21896 non-null  float64\n",
      " 10  renovation        21896 non-null  float64\n",
      " 11  zipcode           21896 non-null  float64\n",
      " 12  latitude          21896 non-null  float64\n",
      " 13  longitude         21896 non-null  float64\n",
      " 14  living_room_size  21896 non-null  float64\n",
      " 15  lot_size          21896 non-null  float64\n",
      "dtypes: float64(16)\n",
      "memory usage: 2.8 MB\n"
     ]
    }
   ],
   "source": [
    "#display information : number of rows and columns, Column or  Feature name \n",
    "#the total memory usage, the data type of each column, and the number of non-Null elements.\n",
    "df.info()"
   ]
  },
  {
   "cell_type": "code",
   "execution_count": 120,
   "metadata": {},
   "outputs": [
    {
     "data": {
      "text/html": [
       "<div>\n",
       "<style scoped>\n",
       "    .dataframe tbody tr th:only-of-type {\n",
       "        vertical-align: middle;\n",
       "    }\n",
       "\n",
       "    .dataframe tbody tr th {\n",
       "        vertical-align: top;\n",
       "    }\n",
       "\n",
       "    .dataframe thead th {\n",
       "        text-align: right;\n",
       "    }\n",
       "</style>\n",
       "<table border=\"1\" class=\"dataframe\">\n",
       "  <thead>\n",
       "    <tr style=\"text-align: right;\">\n",
       "      <th></th>\n",
       "      <th>price</th>\n",
       "      <th>bedrooms</th>\n",
       "      <th>bathrooms</th>\n",
       "      <th>floors</th>\n",
       "      <th>waterfront</th>\n",
       "      <th>view</th>\n",
       "      <th>condition</th>\n",
       "      <th>review_score</th>\n",
       "      <th>basement_size</th>\n",
       "      <th>built</th>\n",
       "      <th>renovation</th>\n",
       "      <th>zipcode</th>\n",
       "      <th>latitude</th>\n",
       "      <th>longitude</th>\n",
       "      <th>living_room_size</th>\n",
       "      <th>lot_size</th>\n",
       "    </tr>\n",
       "  </thead>\n",
       "  <tbody>\n",
       "    <tr>\n",
       "      <th>0</th>\n",
       "      <td>221900.00</td>\n",
       "      <td>3.00</td>\n",
       "      <td>1.00</td>\n",
       "      <td>1.00</td>\n",
       "      <td>0.00</td>\n",
       "      <td>0.00</td>\n",
       "      <td>3.00</td>\n",
       "      <td>10.00</td>\n",
       "      <td>0.00</td>\n",
       "      <td>59.00</td>\n",
       "      <td>2014.00</td>\n",
       "      <td>98178.00</td>\n",
       "      <td>47.51</td>\n",
       "      <td>-122.26</td>\n",
       "      <td>1340.00</td>\n",
       "      <td>5650.00</td>\n",
       "    </tr>\n",
       "    <tr>\n",
       "      <th>1</th>\n",
       "      <td>538000.00</td>\n",
       "      <td>3.00</td>\n",
       "      <td>2.25</td>\n",
       "      <td>2.00</td>\n",
       "      <td>0.00</td>\n",
       "      <td>0.00</td>\n",
       "      <td>3.00</td>\n",
       "      <td>7.00</td>\n",
       "      <td>400.00</td>\n",
       "      <td>63.00</td>\n",
       "      <td>23.00</td>\n",
       "      <td>98125.00</td>\n",
       "      <td>47.72</td>\n",
       "      <td>-122.32</td>\n",
       "      <td>1690.00</td>\n",
       "      <td>7639.00</td>\n",
       "    </tr>\n",
       "    <tr>\n",
       "      <th>2</th>\n",
       "      <td>180000.00</td>\n",
       "      <td>2.00</td>\n",
       "      <td>1.00</td>\n",
       "      <td>1.00</td>\n",
       "      <td>0.00</td>\n",
       "      <td>0.00</td>\n",
       "      <td>3.00</td>\n",
       "      <td>8.00</td>\n",
       "      <td>0.00</td>\n",
       "      <td>82.00</td>\n",
       "      <td>2015.00</td>\n",
       "      <td>98028.00</td>\n",
       "      <td>47.74</td>\n",
       "      <td>-122.23</td>\n",
       "      <td>2720.00</td>\n",
       "      <td>8062.00</td>\n",
       "    </tr>\n",
       "    <tr>\n",
       "      <th>3</th>\n",
       "      <td>604000.00</td>\n",
       "      <td>4.00</td>\n",
       "      <td>3.00</td>\n",
       "      <td>1.00</td>\n",
       "      <td>0.00</td>\n",
       "      <td>0.00</td>\n",
       "      <td>5.00</td>\n",
       "      <td>6.00</td>\n",
       "      <td>910.00</td>\n",
       "      <td>49.00</td>\n",
       "      <td>2014.00</td>\n",
       "      <td>98136.00</td>\n",
       "      <td>47.52</td>\n",
       "      <td>-122.39</td>\n",
       "      <td>1360.00</td>\n",
       "      <td>5000.00</td>\n",
       "    </tr>\n",
       "    <tr>\n",
       "      <th>4</th>\n",
       "      <td>510000.00</td>\n",
       "      <td>3.00</td>\n",
       "      <td>2.00</td>\n",
       "      <td>1.00</td>\n",
       "      <td>0.00</td>\n",
       "      <td>0.00</td>\n",
       "      <td>3.00</td>\n",
       "      <td>6.00</td>\n",
       "      <td>0.00</td>\n",
       "      <td>28.00</td>\n",
       "      <td>2015.00</td>\n",
       "      <td>98074.00</td>\n",
       "      <td>47.62</td>\n",
       "      <td>-122.05</td>\n",
       "      <td>1800.00</td>\n",
       "      <td>7503.00</td>\n",
       "    </tr>\n",
       "    <tr>\n",
       "      <th>5</th>\n",
       "      <td>1225000.00</td>\n",
       "      <td>4.00</td>\n",
       "      <td>4.50</td>\n",
       "      <td>1.00</td>\n",
       "      <td>0.00</td>\n",
       "      <td>0.00</td>\n",
       "      <td>3.00</td>\n",
       "      <td>8.00</td>\n",
       "      <td>1530.00</td>\n",
       "      <td>13.00</td>\n",
       "      <td>2014.00</td>\n",
       "      <td>98053.00</td>\n",
       "      <td>47.66</td>\n",
       "      <td>-122.00</td>\n",
       "      <td>4760.00</td>\n",
       "      <td>101930.00</td>\n",
       "    </tr>\n",
       "    <tr>\n",
       "      <th>6</th>\n",
       "      <td>257500.00</td>\n",
       "      <td>3.00</td>\n",
       "      <td>2.25</td>\n",
       "      <td>2.00</td>\n",
       "      <td>0.00</td>\n",
       "      <td>0.00</td>\n",
       "      <td>3.00</td>\n",
       "      <td>7.00</td>\n",
       "      <td>0.00</td>\n",
       "      <td>19.00</td>\n",
       "      <td>2014.00</td>\n",
       "      <td>98003.00</td>\n",
       "      <td>47.31</td>\n",
       "      <td>-122.33</td>\n",
       "      <td>2238.00</td>\n",
       "      <td>6819.00</td>\n",
       "    </tr>\n",
       "    <tr>\n",
       "      <th>7</th>\n",
       "      <td>291850.00</td>\n",
       "      <td>3.00</td>\n",
       "      <td>1.50</td>\n",
       "      <td>1.00</td>\n",
       "      <td>0.00</td>\n",
       "      <td>0.00</td>\n",
       "      <td>3.00</td>\n",
       "      <td>7.00</td>\n",
       "      <td>0.00</td>\n",
       "      <td>52.00</td>\n",
       "      <td>2015.00</td>\n",
       "      <td>98198.00</td>\n",
       "      <td>47.41</td>\n",
       "      <td>-122.31</td>\n",
       "      <td>1650.00</td>\n",
       "      <td>9711.00</td>\n",
       "    </tr>\n",
       "    <tr>\n",
       "      <th>8</th>\n",
       "      <td>229500.00</td>\n",
       "      <td>3.00</td>\n",
       "      <td>1.00</td>\n",
       "      <td>1.00</td>\n",
       "      <td>0.00</td>\n",
       "      <td>0.00</td>\n",
       "      <td>3.00</td>\n",
       "      <td>7.00</td>\n",
       "      <td>730.00</td>\n",
       "      <td>55.00</td>\n",
       "      <td>2015.00</td>\n",
       "      <td>98146.00</td>\n",
       "      <td>47.51</td>\n",
       "      <td>-122.34</td>\n",
       "      <td>1780.00</td>\n",
       "      <td>8113.00</td>\n",
       "    </tr>\n",
       "    <tr>\n",
       "      <th>9</th>\n",
       "      <td>323000.00</td>\n",
       "      <td>3.00</td>\n",
       "      <td>2.50</td>\n",
       "      <td>2.00</td>\n",
       "      <td>0.00</td>\n",
       "      <td>0.00</td>\n",
       "      <td>3.00</td>\n",
       "      <td>7.00</td>\n",
       "      <td>0.00</td>\n",
       "      <td>12.00</td>\n",
       "      <td>2015.00</td>\n",
       "      <td>98038.00</td>\n",
       "      <td>47.37</td>\n",
       "      <td>-122.03</td>\n",
       "      <td>2390.00</td>\n",
       "      <td>7570.00</td>\n",
       "    </tr>\n",
       "    <tr>\n",
       "      <th>10</th>\n",
       "      <td>662500.00</td>\n",
       "      <td>3.00</td>\n",
       "      <td>2.50</td>\n",
       "      <td>1.00</td>\n",
       "      <td>0.00</td>\n",
       "      <td>0.00</td>\n",
       "      <td>3.00</td>\n",
       "      <td>7.00</td>\n",
       "      <td>1700.00</td>\n",
       "      <td>50.00</td>\n",
       "      <td>2015.00</td>\n",
       "      <td>98007.00</td>\n",
       "      <td>47.60</td>\n",
       "      <td>-122.14</td>\n",
       "      <td>2210.00</td>\n",
       "      <td>8925.00</td>\n",
       "    </tr>\n",
       "    <tr>\n",
       "      <th>11</th>\n",
       "      <td>468000.00</td>\n",
       "      <td>2.00</td>\n",
       "      <td>1.00</td>\n",
       "      <td>1.00</td>\n",
       "      <td>0.00</td>\n",
       "      <td>0.00</td>\n",
       "      <td>4.00</td>\n",
       "      <td>6.00</td>\n",
       "      <td>300.00</td>\n",
       "      <td>72.00</td>\n",
       "      <td>2014.00</td>\n",
       "      <td>98115.00</td>\n",
       "      <td>47.69</td>\n",
       "      <td>-122.29</td>\n",
       "      <td>1330.00</td>\n",
       "      <td>6000.00</td>\n",
       "    </tr>\n",
       "    <tr>\n",
       "      <th>13</th>\n",
       "      <td>400000.00</td>\n",
       "      <td>3.00</td>\n",
       "      <td>1.75</td>\n",
       "      <td>1.00</td>\n",
       "      <td>0.00</td>\n",
       "      <td>0.00</td>\n",
       "      <td>4.00</td>\n",
       "      <td>7.00</td>\n",
       "      <td>0.00</td>\n",
       "      <td>37.00</td>\n",
       "      <td>2014.00</td>\n",
       "      <td>98074.00</td>\n",
       "      <td>47.61</td>\n",
       "      <td>-122.05</td>\n",
       "      <td>1370.00</td>\n",
       "      <td>10208.00</td>\n",
       "    </tr>\n",
       "    <tr>\n",
       "      <th>14</th>\n",
       "      <td>530000.00</td>\n",
       "      <td>5.00</td>\n",
       "      <td>2.00</td>\n",
       "      <td>1.50</td>\n",
       "      <td>0.00</td>\n",
       "      <td>0.00</td>\n",
       "      <td>3.00</td>\n",
       "      <td>9.00</td>\n",
       "      <td>0.00</td>\n",
       "      <td>115.00</td>\n",
       "      <td>2015.00</td>\n",
       "      <td>98107.00</td>\n",
       "      <td>47.67</td>\n",
       "      <td>-122.39</td>\n",
       "      <td>1360.00</td>\n",
       "      <td>4850.00</td>\n",
       "    </tr>\n",
       "    <tr>\n",
       "      <th>15</th>\n",
       "      <td>650000.00</td>\n",
       "      <td>4.00</td>\n",
       "      <td>3.00</td>\n",
       "      <td>2.00</td>\n",
       "      <td>0.00</td>\n",
       "      <td>3.00</td>\n",
       "      <td>3.00</td>\n",
       "      <td>7.00</td>\n",
       "      <td>970.00</td>\n",
       "      <td>36.00</td>\n",
       "      <td>2015.00</td>\n",
       "      <td>98126.00</td>\n",
       "      <td>47.57</td>\n",
       "      <td>-122.38</td>\n",
       "      <td>2140.00</td>\n",
       "      <td>4000.00</td>\n",
       "    </tr>\n",
       "    <tr>\n",
       "      <th>16</th>\n",
       "      <td>395000.00</td>\n",
       "      <td>3.00</td>\n",
       "      <td>2.00</td>\n",
       "      <td>2.00</td>\n",
       "      <td>0.00</td>\n",
       "      <td>0.00</td>\n",
       "      <td>3.00</td>\n",
       "      <td>7.00</td>\n",
       "      <td>0.00</td>\n",
       "      <td>20.00</td>\n",
       "      <td>2014.00</td>\n",
       "      <td>98019.00</td>\n",
       "      <td>47.73</td>\n",
       "      <td>-121.96</td>\n",
       "      <td>1890.00</td>\n",
       "      <td>14018.00</td>\n",
       "    </tr>\n",
       "    <tr>\n",
       "      <th>17</th>\n",
       "      <td>485000.00</td>\n",
       "      <td>4.00</td>\n",
       "      <td>1.00</td>\n",
       "      <td>1.50</td>\n",
       "      <td>0.00</td>\n",
       "      <td>0.00</td>\n",
       "      <td>4.00</td>\n",
       "      <td>9.00</td>\n",
       "      <td>0.00</td>\n",
       "      <td>98.00</td>\n",
       "      <td>2014.00</td>\n",
       "      <td>98103.00</td>\n",
       "      <td>47.66</td>\n",
       "      <td>-122.34</td>\n",
       "      <td>1610.00</td>\n",
       "      <td>4300.00</td>\n",
       "    </tr>\n",
       "    <tr>\n",
       "      <th>18</th>\n",
       "      <td>189000.00</td>\n",
       "      <td>2.00</td>\n",
       "      <td>1.00</td>\n",
       "      <td>1.00</td>\n",
       "      <td>0.00</td>\n",
       "      <td>0.00</td>\n",
       "      <td>4.00</td>\n",
       "      <td>8.00</td>\n",
       "      <td>0.00</td>\n",
       "      <td>93.00</td>\n",
       "      <td>2014.00</td>\n",
       "      <td>98002.00</td>\n",
       "      <td>47.31</td>\n",
       "      <td>-122.21</td>\n",
       "      <td>1060.00</td>\n",
       "      <td>5095.00</td>\n",
       "    </tr>\n",
       "    <tr>\n",
       "      <th>19</th>\n",
       "      <td>230000.00</td>\n",
       "      <td>3.00</td>\n",
       "      <td>1.00</td>\n",
       "      <td>1.00</td>\n",
       "      <td>0.00</td>\n",
       "      <td>0.00</td>\n",
       "      <td>4.00</td>\n",
       "      <td>8.00</td>\n",
       "      <td>0.00</td>\n",
       "      <td>46.00</td>\n",
       "      <td>2015.00</td>\n",
       "      <td>98003.00</td>\n",
       "      <td>47.33</td>\n",
       "      <td>-122.31</td>\n",
       "      <td>1280.00</td>\n",
       "      <td>8850.00</td>\n",
       "    </tr>\n",
       "    <tr>\n",
       "      <th>20</th>\n",
       "      <td>385000.00</td>\n",
       "      <td>4.00</td>\n",
       "      <td>1.75</td>\n",
       "      <td>1.00</td>\n",
       "      <td>0.00</td>\n",
       "      <td>0.00</td>\n",
       "      <td>4.00</td>\n",
       "      <td>9.00</td>\n",
       "      <td>760.00</td>\n",
       "      <td>67.00</td>\n",
       "      <td>2014.00</td>\n",
       "      <td>98133.00</td>\n",
       "      <td>47.70</td>\n",
       "      <td>-122.34</td>\n",
       "      <td>1400.00</td>\n",
       "      <td>4980.00</td>\n",
       "    </tr>\n",
       "  </tbody>\n",
       "</table>\n",
       "</div>"
      ],
      "text/plain": [
       "        price  bedrooms  bathrooms  floors  waterfront  view  condition  \\\n",
       "0   221900.00      3.00       1.00    1.00        0.00  0.00       3.00   \n",
       "1   538000.00      3.00       2.25    2.00        0.00  0.00       3.00   \n",
       "2   180000.00      2.00       1.00    1.00        0.00  0.00       3.00   \n",
       "3   604000.00      4.00       3.00    1.00        0.00  0.00       5.00   \n",
       "4   510000.00      3.00       2.00    1.00        0.00  0.00       3.00   \n",
       "5  1225000.00      4.00       4.50    1.00        0.00  0.00       3.00   \n",
       "6   257500.00      3.00       2.25    2.00        0.00  0.00       3.00   \n",
       "7   291850.00      3.00       1.50    1.00        0.00  0.00       3.00   \n",
       "8   229500.00      3.00       1.00    1.00        0.00  0.00       3.00   \n",
       "9   323000.00      3.00       2.50    2.00        0.00  0.00       3.00   \n",
       "10  662500.00      3.00       2.50    1.00        0.00  0.00       3.00   \n",
       "11  468000.00      2.00       1.00    1.00        0.00  0.00       4.00   \n",
       "13  400000.00      3.00       1.75    1.00        0.00  0.00       4.00   \n",
       "14  530000.00      5.00       2.00    1.50        0.00  0.00       3.00   \n",
       "15  650000.00      4.00       3.00    2.00        0.00  3.00       3.00   \n",
       "16  395000.00      3.00       2.00    2.00        0.00  0.00       3.00   \n",
       "17  485000.00      4.00       1.00    1.50        0.00  0.00       4.00   \n",
       "18  189000.00      2.00       1.00    1.00        0.00  0.00       4.00   \n",
       "19  230000.00      3.00       1.00    1.00        0.00  0.00       4.00   \n",
       "20  385000.00      4.00       1.75    1.00        0.00  0.00       4.00   \n",
       "\n",
       "    review_score  basement_size  built  renovation  zipcode  latitude  \\\n",
       "0          10.00           0.00  59.00     2014.00 98178.00     47.51   \n",
       "1           7.00         400.00  63.00       23.00 98125.00     47.72   \n",
       "2           8.00           0.00  82.00     2015.00 98028.00     47.74   \n",
       "3           6.00         910.00  49.00     2014.00 98136.00     47.52   \n",
       "4           6.00           0.00  28.00     2015.00 98074.00     47.62   \n",
       "5           8.00        1530.00  13.00     2014.00 98053.00     47.66   \n",
       "6           7.00           0.00  19.00     2014.00 98003.00     47.31   \n",
       "7           7.00           0.00  52.00     2015.00 98198.00     47.41   \n",
       "8           7.00         730.00  55.00     2015.00 98146.00     47.51   \n",
       "9           7.00           0.00  12.00     2015.00 98038.00     47.37   \n",
       "10          7.00        1700.00  50.00     2015.00 98007.00     47.60   \n",
       "11          6.00         300.00  72.00     2014.00 98115.00     47.69   \n",
       "13          7.00           0.00  37.00     2014.00 98074.00     47.61   \n",
       "14          9.00           0.00 115.00     2015.00 98107.00     47.67   \n",
       "15          7.00         970.00  36.00     2015.00 98126.00     47.57   \n",
       "16          7.00           0.00  20.00     2014.00 98019.00     47.73   \n",
       "17          9.00           0.00  98.00     2014.00 98103.00     47.66   \n",
       "18          8.00           0.00  93.00     2014.00 98002.00     47.31   \n",
       "19          8.00           0.00  46.00     2015.00 98003.00     47.33   \n",
       "20          9.00         760.00  67.00     2014.00 98133.00     47.70   \n",
       "\n",
       "    longitude  living_room_size  lot_size  \n",
       "0     -122.26           1340.00   5650.00  \n",
       "1     -122.32           1690.00   7639.00  \n",
       "2     -122.23           2720.00   8062.00  \n",
       "3     -122.39           1360.00   5000.00  \n",
       "4     -122.05           1800.00   7503.00  \n",
       "5     -122.00           4760.00 101930.00  \n",
       "6     -122.33           2238.00   6819.00  \n",
       "7     -122.31           1650.00   9711.00  \n",
       "8     -122.34           1780.00   8113.00  \n",
       "9     -122.03           2390.00   7570.00  \n",
       "10    -122.14           2210.00   8925.00  \n",
       "11    -122.29           1330.00   6000.00  \n",
       "13    -122.05           1370.00  10208.00  \n",
       "14    -122.39           1360.00   4850.00  \n",
       "15    -122.38           2140.00   4000.00  \n",
       "16    -121.96           1890.00  14018.00  \n",
       "17    -122.34           1610.00   4300.00  \n",
       "18    -122.21           1060.00   5095.00  \n",
       "19    -122.31           1280.00   8850.00  \n",
       "20    -122.34           1400.00   4980.00  "
      ]
     },
     "execution_count": 120,
     "metadata": {},
     "output_type": "execute_result"
    }
   ],
   "source": [
    "df.head(20)"
   ]
  },
  {
   "cell_type": "markdown",
   "metadata": {},
   "source": [
    "# 4. Regression Algorithms to Predict"
   ]
  },
  {
   "cell_type": "code",
   "execution_count": 121,
   "metadata": {},
   "outputs": [],
   "source": [
    "# train(=Independent variables) and label(=target variable) \n",
    "label = df['price']\n",
    "train = df.drop(['price'],axis=1)"
   ]
  },
  {
   "cell_type": "code",
   "execution_count": 122,
   "metadata": {},
   "outputs": [],
   "source": [
    "# train and test split\n",
    "x_train , x_test , y_train , y_test = train_test_split(train , label , test_size = 0.15,random_state =2)"
   ]
  },
  {
   "cell_type": "code",
   "execution_count": 123,
   "metadata": {},
   "outputs": [],
   "source": [
    "# Model - Multiple Linear Regression\n",
    "mlr = LinearRegression()\n",
    "# Run fit fuction\n",
    "mlr.fit(x_train,y_train)\n",
    "#R Squared Score\n",
    "mlr_score=mlr.score(x_test,y_test)\n",
    "#Run Predict on test set\n",
    "pred_mlr = mlr.predict(x_test)\n",
    "#get explained variance (measure of Accuracy of Prediction)\n",
    "expl_mlr = explained_variance_score(pred_mlr,y_test)"
   ]
  },
  {
   "cell_type": "code",
   "execution_count": 124,
   "metadata": {},
   "outputs": [],
   "source": [
    "#Model - ensemble - Gradient Boosting \n",
    "gbm = ensemble.GradientBoostingRegressor(n_estimators = 400, max_depth = 5, min_samples_split = 2,\n",
    "          learning_rate = 0.1, loss = 'ls')\n",
    "#run fit\n",
    "gbm.fit(x_train, y_train)\n",
    "#R Squared Score\n",
    "gbm_score = gbm.score(x_test,y_test)\n",
    "#Run Predict on test set\n",
    "pred_gbm = gbm.predict(x_test)\n",
    "#get explained variance (measure of Accuracy of Prediction)\n",
    "expl_gbm = explained_variance_score(pred_gbm,y_test)"
   ]
  },
  {
   "cell_type": "code",
   "execution_count": 125,
   "metadata": {},
   "outputs": [],
   "source": [
    "# Decision Tree Algorthm\n",
    "tr_regressor = DecisionTreeRegressor(random_state=0)\n",
    "#run fit function\n",
    "tr_regressor.fit(x_train,y_train)\n",
    "#R Squared Score\n",
    "decision_score=tr_regressor.score(x_test,y_test)\n",
    "#Run Predict on test set\n",
    "pred_tr = tr_regressor.predict(x_test)\n",
    "#get explained variance (measure of Accuracy of Prediction)\n",
    "expl_tr = explained_variance_score(pred_tr,y_test)"
   ]
  },
  {
   "cell_type": "markdown",
   "metadata": {},
   "source": [
    "# 5. Classification Algorithm to Predict"
   ]
  },
  {
   "cell_type": "code",
   "execution_count": 126,
   "metadata": {},
   "outputs": [],
   "source": [
    "#Random Forest - Classification Algorithm\n",
    "rf_classifier= RandomForestRegressor(random_state=0)\n",
    "#run fit function\n",
    "rf_classifier.fit(x_train,y_train)\n",
    "#R Squared Score\n",
    "rf_score = rf_classifier.score(x_test,y_test)\n",
    "#Run Predict on test set\n",
    "rf_pred = rf_classifier.predict(x_test)\n",
    "#get explained variance (measure of Accuracy of Prediction)\n",
    "expl_rf = explained_variance_score(rf_pred,y_test)\n"
   ]
  },
  {
   "cell_type": "code",
   "execution_count": 127,
   "metadata": {},
   "outputs": [
    {
     "data": {
      "text/html": [
       "<div>\n",
       "<style scoped>\n",
       "    .dataframe tbody tr th:only-of-type {\n",
       "        vertical-align: middle;\n",
       "    }\n",
       "\n",
       "    .dataframe tbody tr th {\n",
       "        vertical-align: top;\n",
       "    }\n",
       "\n",
       "    .dataframe thead th {\n",
       "        text-align: right;\n",
       "    }\n",
       "</style>\n",
       "<table border=\"1\" class=\"dataframe\">\n",
       "  <thead>\n",
       "    <tr style=\"text-align: right;\">\n",
       "      <th></th>\n",
       "      <th>Model</th>\n",
       "      <th>R-Squared Score</th>\n",
       "      <th>Explained Variance Score</th>\n",
       "    </tr>\n",
       "  </thead>\n",
       "  <tbody>\n",
       "    <tr>\n",
       "      <th>1</th>\n",
       "      <td>Gradient Boosting Method</td>\n",
       "      <td>0.81</td>\n",
       "      <td>0.76</td>\n",
       "    </tr>\n",
       "    <tr>\n",
       "      <th>3</th>\n",
       "      <td>Random forest</td>\n",
       "      <td>0.78</td>\n",
       "      <td>0.70</td>\n",
       "    </tr>\n",
       "    <tr>\n",
       "      <th>2</th>\n",
       "      <td>Decision Tree</td>\n",
       "      <td>0.60</td>\n",
       "      <td>0.55</td>\n",
       "    </tr>\n",
       "    <tr>\n",
       "      <th>0</th>\n",
       "      <td>Multiple Linear Regression</td>\n",
       "      <td>0.57</td>\n",
       "      <td>0.19</td>\n",
       "    </tr>\n",
       "  </tbody>\n",
       "</table>\n",
       "</div>"
      ],
      "text/plain": [
       "                        Model  R-Squared Score  Explained Variance Score\n",
       "1    Gradient Boosting Method             0.81                      0.76\n",
       "3               Random forest             0.78                      0.70\n",
       "2               Decision Tree             0.60                      0.55\n",
       "0  Multiple Linear Regression             0.57                      0.19"
      ]
     },
     "execution_count": 127,
     "metadata": {},
     "output_type": "execute_result"
    }
   ],
   "source": [
    "models_score =pd.DataFrame({'Model':['Multiple Linear Regression','Gradient Boosting Method','Decision Tree','Random forest'],\n",
    "                            'R-Squared Score':[mlr_score,gbm_score,decision_score,rf_score],\n",
    "                            'Explained Variance Score':[expl_mlr,expl_gbm,expl_tr,expl_rf]\n",
    "                           })\n",
    "models_score.sort_values(by='R-Squared Score',ascending=False)"
   ]
  },
  {
   "cell_type": "code",
   "execution_count": null,
   "metadata": {},
   "outputs": [],
   "source": []
  }
 ],
 "metadata": {
  "kernelspec": {
   "display_name": "Python 3",
   "language": "python",
   "name": "python3"
  },
  "language_info": {
   "codemirror_mode": {
    "name": "ipython",
    "version": 3
   },
   "file_extension": ".py",
   "mimetype": "text/x-python",
   "name": "python",
   "nbconvert_exporter": "python",
   "pygments_lexer": "ipython3",
   "version": "3.7.7"
  }
 },
 "nbformat": 4,
 "nbformat_minor": 4
}
